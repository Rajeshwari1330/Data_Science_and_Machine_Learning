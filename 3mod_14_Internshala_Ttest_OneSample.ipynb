{
 "cells": [
  {
   "cell_type": "code",
   "execution_count": 3,
   "metadata": {},
   "outputs": [],
   "source": [
    "# importing libraries\n",
    "\n",
    "import pandas as pd\n",
    "import scipy.stats as stats\n",
    "from scipy.stats import ttest_1samp"
   ]
  },
  {
   "cell_type": "code",
   "execution_count": 6,
   "metadata": {},
   "outputs": [],
   "source": [
    "# Loading data\n",
    "\n",
    "data = pd.read_csv('C:\\\\Users\\\\Admin\\\\Internshala\\\\oneSample_dataset.csv')"
   ]
  },
  {
   "cell_type": "code",
   "execution_count": 7,
   "metadata": {},
   "outputs": [
    {
     "name": "stdout",
     "output_type": "stream",
     "text": [
      "    Insect Length  Unnamed: 1  Unnamed: 2  Unnamed: 3  Unnamed: 4\n",
      "0            6.55         NaN         NaN         NaN         NaN\n",
      "1            6.67         NaN         NaN         NaN         NaN\n",
      "2            6.56         NaN         NaN         NaN         NaN\n",
      "3            6.63         NaN         NaN         NaN         NaN\n",
      "4            6.39         NaN         NaN         NaN         NaN\n",
      "5            6.33         NaN         NaN         NaN         NaN\n",
      "6            6.28         NaN         NaN         NaN         NaN\n",
      "7            6.75         NaN         NaN         NaN         NaN\n",
      "8            6.86         NaN         NaN         NaN         NaN\n",
      "9            6.90         NaN         NaN         NaN         NaN\n",
      "10           6.90         NaN         NaN         NaN         NaN\n",
      "11           6.90         NaN         NaN         NaN         NaN\n",
      "12           6.30         NaN         NaN         NaN         NaN\n",
      "13           6.90         NaN         NaN         NaN         NaN\n",
      "14           6.22         NaN         NaN         NaN         NaN\n",
      "15           6.40         NaN         NaN         NaN         NaN\n",
      "16           6.42         NaN         NaN         NaN         NaN\n",
      "17           6.43         NaN         NaN         NaN         NaN\n",
      "18           6.54         NaN         NaN         NaN         NaN\n",
      "19           6.78         NaN         NaN         NaN         NaN\n",
      "20           5.50         NaN         NaN         NaN         NaN\n",
      "21           6.92         NaN         NaN         NaN         NaN\n",
      "22           6.66         NaN         NaN         NaN         NaN\n",
      "23           5.20         NaN         NaN         NaN         NaN\n",
      "24           6.11         NaN         NaN         NaN         NaN\n",
      "25           6.27         NaN         NaN         NaN         NaN\n",
      "26           6.82         NaN         NaN         NaN         NaN\n",
      "27           6.60         NaN         NaN         NaN         NaN\n",
      "28           6.49         NaN         NaN         NaN         NaN\n"
     ]
    }
   ],
   "source": [
    "print(data)"
   ]
  },
  {
   "cell_type": "code",
   "execution_count": 8,
   "metadata": {},
   "outputs": [],
   "source": [
    "data = data['Insect Length']"
   ]
  },
  {
   "cell_type": "code",
   "execution_count": 9,
   "metadata": {},
   "outputs": [
    {
     "name": "stdout",
     "output_type": "stream",
     "text": [
      "0     6.55\n",
      "1     6.67\n",
      "2     6.56\n",
      "3     6.63\n",
      "4     6.39\n",
      "5     6.33\n",
      "6     6.28\n",
      "7     6.75\n",
      "8     6.86\n",
      "9     6.90\n",
      "10    6.90\n",
      "11    6.90\n",
      "12    6.30\n",
      "13    6.90\n",
      "14    6.22\n",
      "15    6.40\n",
      "16    6.42\n",
      "17    6.43\n",
      "18    6.54\n",
      "19    6.78\n",
      "20    5.50\n",
      "21    6.92\n",
      "22    6.66\n",
      "23    5.20\n",
      "24    6.11\n",
      "25    6.27\n",
      "26    6.82\n",
      "27    6.60\n",
      "28    6.49\n",
      "Name: Insect Length, dtype: float64\n"
     ]
    }
   ],
   "source": [
    "print(data)"
   ]
  },
  {
   "cell_type": "code",
   "execution_count": 10,
   "metadata": {},
   "outputs": [
    {
     "data": {
      "text/plain": [
       "0    6.55\n",
       "1    6.67\n",
       "2    6.56\n",
       "3    6.63\n",
       "4    6.39\n",
       "Name: Insect Length, dtype: float64"
      ]
     },
     "execution_count": 10,
     "metadata": {},
     "output_type": "execute_result"
    }
   ],
   "source": [
    "# printing 5 rows\n",
    "\n",
    "data.head()"
   ]
  },
  {
   "cell_type": "markdown",
   "metadata": {},
   "source": [
    "NOTE: Let's conduct a one sample t-test to check if the mean of the sample insects is similar to the mean of earlier insects. Mean of the earlier insect is 6.09."
   ]
  },
  {
   "cell_type": "markdown",
   "metadata": {},
   "source": [
    "We have the degree of freedom that is 28 and taking significance level to be 0.05, the t-critical value comes out to be 2.048"
   ]
  },
  {
   "cell_type": "code",
   "execution_count": 13,
   "metadata": {},
   "outputs": [],
   "source": [
    "# t - statistic formula\n",
    "\n",
    "t_statistic, _ = ttest_1samp(data, 6.09)"
   ]
  },
  {
   "cell_type": "code",
   "execution_count": 14,
   "metadata": {},
   "outputs": [
    {
     "name": "stdout",
     "output_type": "stream",
     "text": [
      "5.466112820736585\n"
     ]
    }
   ],
   "source": [
    "# print the t_statistic value\n",
    "\n",
    "print(t_statistic)"
   ]
  },
  {
   "cell_type": "markdown",
   "metadata": {},
   "source": [
    "t-statistic > t-critical, so we reject the null hypothesis"
   ]
  },
  {
   "cell_type": "code",
   "execution_count": null,
   "metadata": {},
   "outputs": [],
   "source": []
  }
 ],
 "metadata": {
  "kernelspec": {
   "display_name": "Python 3",
   "language": "python",
   "name": "python3"
  },
  "language_info": {
   "codemirror_mode": {
    "name": "ipython",
    "version": 3
   },
   "file_extension": ".py",
   "mimetype": "text/x-python",
   "name": "python",
   "nbconvert_exporter": "python",
   "pygments_lexer": "ipython3",
   "version": "3.7.6"
  }
 },
 "nbformat": 4,
 "nbformat_minor": 4
}
